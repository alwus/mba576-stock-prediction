{
 "cells": [
  {
   "cell_type": "code",
   "execution_count": null,
   "id": "4ddba2e6-16b6-491a-b687-98a02d511fb7",
   "metadata": {},
   "outputs": [],
   "source": [
    "import pandas as pd\n",
    "import numpy as np\n",
    "import matplotlib.pyplot as plt\n",
    "import time\n",
    "from datetime import datetime, timedelta\n",
    "\n",
    "# one-time download of nltk stopwords and wordnet resources required\n",
    "# import nltk\n",
    "# nltk.download('stopwords')\n",
    "# nltk.download('wordnet')\n",
    "# nltk.download('omw-1.4')\n",
    "\n",
    "from nltk.corpus import stopwords\n",
    "from nltk.stem.wordnet import WordNetLemmatizer\n",
    "import string\n",
    "\n",
    "from sklearn.feature_extraction.text import TfidfVectorizer\n",
    "from sklearn.model_selection import train_test_split\n",
    "from sklearn.ensemble import RandomForestClassifier\n",
    "from sklearn.svm import SVC\n",
    "import xgboost as xgb\n",
    "from sklearn.metrics import confusion_matrix, classification_report, accuracy_score\n",
    "from sklearn.preprocessing import StandardScaler\n",
    "from scipy.sparse import hstack\n",
    "from scipy import sparse"
   ]
  },
  {
   "cell_type": "code",
   "execution_count": null,
   "id": "3cc18b14-7ed7-4331-8056-e14950ec15ea",
   "metadata": {},
   "outputs": [],
   "source": [
    "# for google colab\n",
    "# from google.colab import drive\n",
    "# drive.mount('/content/drive')\n",
    "\n",
    "# adjust as needed\n",
    "# base_path = '/content/drive/My Drive/Colab Notebooks/'"
   ]
  },
  {
   "cell_type": "code",
   "execution_count": 2,
   "id": "980fe6ed-30bc-418e-a23b-add41b2cb7fd",
   "metadata": {},
   "outputs": [
    {
     "data": {
      "text/html": [
       "<div>\n",
       "<style scoped>\n",
       "    .dataframe tbody tr th:only-of-type {\n",
       "        vertical-align: middle;\n",
       "    }\n",
       "\n",
       "    .dataframe tbody tr th {\n",
       "        vertical-align: top;\n",
       "    }\n",
       "\n",
       "    .dataframe thead th {\n",
       "        text-align: right;\n",
       "    }\n",
       "</style>\n",
       "<table border=\"1\" class=\"dataframe\">\n",
       "  <thead>\n",
       "    <tr style=\"text-align: right;\">\n",
       "      <th></th>\n",
       "      <th>Unnamed: 0</th>\n",
       "      <th>title</th>\n",
       "      <th>date</th>\n",
       "      <th>stock</th>\n",
       "    </tr>\n",
       "  </thead>\n",
       "  <tbody>\n",
       "    <tr>\n",
       "      <th>0</th>\n",
       "      <td>0.0</td>\n",
       "      <td>Stocks That Hit 52-Week Highs On Friday</td>\n",
       "      <td>2020-06-05 14:30:00</td>\n",
       "      <td>A</td>\n",
       "    </tr>\n",
       "    <tr>\n",
       "      <th>1</th>\n",
       "      <td>1.0</td>\n",
       "      <td>Stocks That Hit 52-Week Highs On Wednesday</td>\n",
       "      <td>2020-06-03 14:45:00</td>\n",
       "      <td>A</td>\n",
       "    </tr>\n",
       "    <tr>\n",
       "      <th>2</th>\n",
       "      <td>2.0</td>\n",
       "      <td>71 Biggest Movers From Friday</td>\n",
       "      <td>2020-05-26 08:30:00</td>\n",
       "      <td>A</td>\n",
       "    </tr>\n",
       "    <tr>\n",
       "      <th>3</th>\n",
       "      <td>3.0</td>\n",
       "      <td>46 Stocks Moving In Friday's Mid-Day Session</td>\n",
       "      <td>2020-05-22 16:45:00</td>\n",
       "      <td>A</td>\n",
       "    </tr>\n",
       "    <tr>\n",
       "      <th>4</th>\n",
       "      <td>4.0</td>\n",
       "      <td>B of A Securities Maintains Neutral on Agilent...</td>\n",
       "      <td>2020-05-22 15:38:00</td>\n",
       "      <td>A</td>\n",
       "    </tr>\n",
       "  </tbody>\n",
       "</table>\n",
       "</div>"
      ],
      "text/plain": [
       "   Unnamed: 0                                              title  \\\n",
       "0         0.0            Stocks That Hit 52-Week Highs On Friday   \n",
       "1         1.0         Stocks That Hit 52-Week Highs On Wednesday   \n",
       "2         2.0                      71 Biggest Movers From Friday   \n",
       "3         3.0       46 Stocks Moving In Friday's Mid-Day Session   \n",
       "4         4.0  B of A Securities Maintains Neutral on Agilent...   \n",
       "\n",
       "                 date stock  \n",
       "0 2020-06-05 14:30:00     A  \n",
       "1 2020-06-03 14:45:00     A  \n",
       "2 2020-05-26 08:30:00     A  \n",
       "3 2020-05-22 16:45:00     A  \n",
       "4 2020-05-22 15:38:00     A  "
      ]
     },
     "execution_count": 2,
     "metadata": {},
     "output_type": "execute_result"
    }
   ],
   "source": [
    "# Let pandas handle date parsing internally — it's optimized and faster\n",
    "news_df = pd.read_csv('analyst_ratings_processed.csv', parse_dates=['date']).dropna()\n",
    "news_df['date'] = pd.to_datetime(news_df['date'], utc=True) # removed .dt.date\n",
    "news_df['date'] = news_df['date'].dt.tz_localize(None) # new line of code to remove tz infor\n",
    "\n",
    "prices_df = pd.read_csv('prices-split-adjusted.csv', parse_dates=['date']).dropna()\n",
    "prices_df['date'] = pd.to_datetime(prices_df['date']) # changed to get pd.Timestamp\n",
    "\n",
    "news_df.head()"
   ]
  },
  {
   "cell_type": "code",
   "execution_count": 3,
   "id": "734790b6-34f4-4563-9d6f-042f74929e5e",
   "metadata": {},
   "outputs": [
    {
     "data": {
      "text/html": [
       "<div>\n",
       "<style scoped>\n",
       "    .dataframe tbody tr th:only-of-type {\n",
       "        vertical-align: middle;\n",
       "    }\n",
       "\n",
       "    .dataframe tbody tr th {\n",
       "        vertical-align: top;\n",
       "    }\n",
       "\n",
       "    .dataframe thead th {\n",
       "        text-align: right;\n",
       "    }\n",
       "</style>\n",
       "<table border=\"1\" class=\"dataframe\">\n",
       "  <thead>\n",
       "    <tr style=\"text-align: right;\">\n",
       "      <th></th>\n",
       "      <th>ticker</th>\n",
       "      <th>friday_date</th>\n",
       "      <th>friday_close</th>\n",
       "      <th>monday</th>\n",
       "      <th>tuesday</th>\n",
       "      <th>monday_open</th>\n",
       "      <th>tuesday_open</th>\n",
       "      <th>next_open</th>\n",
       "      <th>target</th>\n",
       "      <th>open_day</th>\n",
       "    </tr>\n",
       "  </thead>\n",
       "  <tbody>\n",
       "    <tr>\n",
       "      <th>0</th>\n",
       "      <td>WLTW</td>\n",
       "      <td>2016-01-08</td>\n",
       "      <td>116.620003</td>\n",
       "      <td>2016-01-11</td>\n",
       "      <td>2016-01-12</td>\n",
       "      <td>117.010002</td>\n",
       "      <td>115.510002</td>\n",
       "      <td>117.010002</td>\n",
       "      <td>UP</td>\n",
       "      <td>Monday</td>\n",
       "    </tr>\n",
       "    <tr>\n",
       "      <th>1</th>\n",
       "      <td>WLTW</td>\n",
       "      <td>2016-01-15</td>\n",
       "      <td>112.529999</td>\n",
       "      <td>2016-01-18</td>\n",
       "      <td>2016-01-19</td>\n",
       "      <td>NaN</td>\n",
       "      <td>113.660004</td>\n",
       "      <td>113.660004</td>\n",
       "      <td>UP</td>\n",
       "      <td>Tuesday</td>\n",
       "    </tr>\n",
       "    <tr>\n",
       "      <th>2</th>\n",
       "      <td>WLTW</td>\n",
       "      <td>2016-01-22</td>\n",
       "      <td>111.949997</td>\n",
       "      <td>2016-01-25</td>\n",
       "      <td>2016-01-26</td>\n",
       "      <td>111.320000</td>\n",
       "      <td>110.419998</td>\n",
       "      <td>111.320000</td>\n",
       "      <td>DOWN</td>\n",
       "      <td>Monday</td>\n",
       "    </tr>\n",
       "    <tr>\n",
       "      <th>3</th>\n",
       "      <td>WLTW</td>\n",
       "      <td>2016-01-29</td>\n",
       "      <td>114.470001</td>\n",
       "      <td>2016-02-01</td>\n",
       "      <td>2016-02-02</td>\n",
       "      <td>114.000000</td>\n",
       "      <td>113.250000</td>\n",
       "      <td>114.000000</td>\n",
       "      <td>DOWN</td>\n",
       "      <td>Monday</td>\n",
       "    </tr>\n",
       "    <tr>\n",
       "      <th>4</th>\n",
       "      <td>WLTW</td>\n",
       "      <td>2016-02-05</td>\n",
       "      <td>114.019997</td>\n",
       "      <td>2016-02-08</td>\n",
       "      <td>2016-02-09</td>\n",
       "      <td>113.300003</td>\n",
       "      <td>111.169998</td>\n",
       "      <td>113.300003</td>\n",
       "      <td>DOWN</td>\n",
       "      <td>Monday</td>\n",
       "    </tr>\n",
       "  </tbody>\n",
       "</table>\n",
       "</div>"
      ],
      "text/plain": [
       "  ticker friday_date  friday_close     monday    tuesday  monday_open  \\\n",
       "0   WLTW  2016-01-08    116.620003 2016-01-11 2016-01-12   117.010002   \n",
       "1   WLTW  2016-01-15    112.529999 2016-01-18 2016-01-19          NaN   \n",
       "2   WLTW  2016-01-22    111.949997 2016-01-25 2016-01-26   111.320000   \n",
       "3   WLTW  2016-01-29    114.470001 2016-02-01 2016-02-02   114.000000   \n",
       "4   WLTW  2016-02-05    114.019997 2016-02-08 2016-02-09   113.300003   \n",
       "\n",
       "   tuesday_open   next_open target open_day  \n",
       "0    115.510002  117.010002     UP   Monday  \n",
       "1    113.660004  113.660004     UP  Tuesday  \n",
       "2    110.419998  111.320000   DOWN   Monday  \n",
       "3    113.250000  114.000000   DOWN   Monday  \n",
       "4    111.169998  113.300003   DOWN   Monday  "
      ]
     },
     "execution_count": 3,
     "metadata": {},
     "output_type": "execute_result"
    }
   ],
   "source": [
    "# Clean column names\n",
    "news_df = news_df.rename(columns={'title': 'headline', 'stock': 'ticker'})\n",
    "prices_df = prices_df.rename(columns={'symbol': 'ticker'})\n",
    "\n",
    "# Extract valid Fridays\n",
    "friday_prices = prices_df[prices_df['date'].dt.dayofweek == 4][['ticker', 'date', 'close']].copy()\n",
    "friday_prices = friday_prices.rename(columns={'date': 'friday_date', 'close': 'friday_close'})\n",
    "\n",
    "# Create DataFrame of potential comparisons\n",
    "friday_prices['monday'] = friday_prices['friday_date'] + pd.Timedelta(days=3)\n",
    "friday_prices['tuesday'] = friday_prices['friday_date'] + pd.Timedelta(days=4)\n",
    "\n",
    "# Get Monday open prices\n",
    "monday_open = prices_df[['ticker', 'date', 'open']].copy()\n",
    "monday_open = monday_open.rename(columns={'date': 'monday', 'open': 'monday_open'})\n",
    "\n",
    "# Get Tuesday open prices\n",
    "tuesday_open = prices_df[['ticker', 'date', 'open']].copy()\n",
    "tuesday_open = tuesday_open.rename(columns={'date': 'tuesday', 'open': 'tuesday_open'})\n",
    "\n",
    "# Merge to attach possible Monday and Tuesday open prices\n",
    "merged = pd.merge(friday_prices, monday_open, on=['ticker', 'monday'], how='left')\n",
    "merged = pd.merge(merged, tuesday_open, on=['ticker', 'tuesday'], how='left')\n",
    "\n",
    "# Use Monday open if it exists, otherwise fallback to Tuesday open\n",
    "merged['next_open'] = merged['monday_open'].combine_first(merged['tuesday_open'])\n",
    "\n",
    "# If both Monday and Tuesday are missing (market closed 2 days), drop the row\n",
    "merged = merged.dropna(subset=['next_open', 'friday_close'])\n",
    "\n",
    "# create target variable: 'UP' if Monday's open is higher than Friday's close, 'DOWN' otherwise\n",
    "merged['target'] = np.where(merged['next_open'] > merged['friday_close'], 'UP', 'DOWN')\n",
    "\n",
    "# keep track of Monday or Tuesday opens\n",
    "merged['open_day'] = np.where(\n",
    "    ~merged['monday_open'].isna(), 'Monday',\n",
    "    np.where(~merged['tuesday_open'].isna(), 'Tuesday', 'Missing')\n",
    ")\n",
    "\n",
    "merged.head()"
   ]
  },
  {
   "cell_type": "code",
   "execution_count": 4,
   "id": "52c1e469-f227-4d99-ae09-6dbcb879f377",
   "metadata": {},
   "outputs": [
    {
     "name": "stdout",
     "output_type": "stream",
     "text": [
      "Time required to build weekly headline lists (sec): 49.8\n"
     ]
    }
   ],
   "source": [
    "# track time required to list weekly headlines\n",
    "start = time.time()\n",
    "\n",
    "# ensure news_df converted to datetime\n",
    "news_df['date'] = pd.to_datetime(news_df['date'])\n",
    "\n",
    "# determine actual open date used\n",
    "merged['open_date_used'] = merged['monday']\n",
    "merged.loc[merged['monday_open'].isna(), 'open_date_used'] = merged['tuesday']\n",
    "merged['open_date_used'] = pd.to_datetime(merged['open_date_used'])\n",
    "\n",
    "# create start and end date ranges\n",
    "merged['start_date'] = merged['open_date_used'] - pd.Timedelta(days=7)\n",
    "merged['end_date'] = merged['open_date_used'] - pd.Timedelta(days=1)\n",
    "\n",
    "# reset index to track original rows\n",
    "merged = merged.reset_index().rename(columns={'index': 'orig_index'})\n",
    "\n",
    "# join on ticker to create expanded set of candidate news rows\n",
    "news_expanded = pd.merge(\n",
    "    merged[['orig_index', 'ticker', 'start_date', 'end_date']],\n",
    "    news_df[['ticker', 'date', 'headline']],\n",
    "    on='ticker',\n",
    "    how='left'\n",
    ")\n",
    "\n",
    "# filter news within the 7-day window\n",
    "mask = (news_expanded['date'] >= news_expanded['start_date']) & \\\n",
    "       (news_expanded['date'] <= news_expanded['end_date'])\n",
    "news_expanded = news_expanded[mask]\n",
    "\n",
    "# aggregate headlines by row\n",
    "headline_agg = news_expanded.groupby('orig_index')['headline'] \\\n",
    "    .apply(lambda x: \" \".join(x)).reset_index()\n",
    "\n",
    "# merge aggregated headlines back into merged\n",
    "merged = pd.merge(merged, headline_agg, on='orig_index', how='left')\n",
    "merged = merged.rename(columns={'headline': 'weekly_headlines'})\n",
    "\n",
    "# drop empty headline rows\n",
    "merged = merged[merged['weekly_headlines'].str.strip().notna()]\n",
    "\n",
    "# clean temp columns\n",
    "merged.drop(columns=['start_date', 'end_date', 'orig_index'], inplace=True)\n",
    "\n",
    "headline_list_time = time.time() - start\n",
    "print('Time required to build weekly headline lists (sec): {:.1f}'.format(headline_list_time))"
   ]
  },
  {
   "cell_type": "code",
   "execution_count": 14,
   "id": "4c4d7b0c-7286-4c97-b3df-686f48a0f948",
   "metadata": {},
   "outputs": [],
   "source": [
    "# merged.to_csv(\"merged_with_weekly_headlines.csv\", index=False)"
   ]
  },
  {
   "cell_type": "code",
   "execution_count": 5,
   "id": "b885263f-4511-4ac0-abd6-1029fbc8e657",
   "metadata": {},
   "outputs": [],
   "source": [
    "# pre-process text information\n",
    "\n",
    "# Setup\n",
    "stop = set(stopwords.words('english'))\n",
    "exclude = set(string.punctuation)\n",
    "lemma = WordNetLemmatizer()\n",
    "\n",
    "# Cleaning function\n",
    "def clean(doc):\n",
    "    # Lowercase and remove stopwords\n",
    "    stop_free = \" \".join([i for i in doc.lower().split() if i not in stop])\n",
    "    # Remove punctuation\n",
    "    punc_free = ''.join(ch for ch in stop_free if ch not in exclude)\n",
    "    # Lemmatize words\n",
    "    normalized = \" \".join(lemma.lemmatize(word) for word in punc_free.split())\n",
    "    return normalized\n",
    "\n",
    "# Apply to 'weekly_headlines' column\n",
    "merged['weekly_headlines_clean'] = merged['weekly_headlines'].apply(clean)"
   ]
  },
  {
   "cell_type": "code",
   "execution_count": 6,
   "id": "4093a1b4-7e70-49dd-9aff-d7a070dfd20e",
   "metadata": {},
   "outputs": [
    {
     "data": {
      "text/html": [
       "<div>\n",
       "<style scoped>\n",
       "    .dataframe tbody tr th:only-of-type {\n",
       "        vertical-align: middle;\n",
       "    }\n",
       "\n",
       "    .dataframe tbody tr th {\n",
       "        vertical-align: top;\n",
       "    }\n",
       "\n",
       "    .dataframe thead th {\n",
       "        text-align: right;\n",
       "    }\n",
       "</style>\n",
       "<table border=\"1\" class=\"dataframe\">\n",
       "  <thead>\n",
       "    <tr style=\"text-align: right;\">\n",
       "      <th></th>\n",
       "      <th>ticker</th>\n",
       "      <th>friday_date</th>\n",
       "      <th>friday_close</th>\n",
       "      <th>monday</th>\n",
       "      <th>tuesday</th>\n",
       "      <th>monday_open</th>\n",
       "      <th>tuesday_open</th>\n",
       "      <th>next_open</th>\n",
       "      <th>target</th>\n",
       "      <th>open_day</th>\n",
       "      <th>open_date_used</th>\n",
       "      <th>weekly_headlines</th>\n",
       "      <th>weekly_headlines_clean</th>\n",
       "    </tr>\n",
       "  </thead>\n",
       "  <tbody>\n",
       "    <tr>\n",
       "      <th>52</th>\n",
       "      <td>AAP</td>\n",
       "      <td>2010-01-08</td>\n",
       "      <td>40.639999</td>\n",
       "      <td>2010-01-11</td>\n",
       "      <td>2010-01-12</td>\n",
       "      <td>40.720001</td>\n",
       "      <td>39.430000</td>\n",
       "      <td>40.720001</td>\n",
       "      <td>UP</td>\n",
       "      <td>Monday</td>\n",
       "      <td>2010-01-11</td>\n",
       "      <td>Advance Auto Parts – A Turnaround Candidate (AAP)</td>\n",
       "      <td>advance auto part – turnaround candidate aap</td>\n",
       "    </tr>\n",
       "    <tr>\n",
       "      <th>54</th>\n",
       "      <td>ABC</td>\n",
       "      <td>2010-01-08</td>\n",
       "      <td>26.049999</td>\n",
       "      <td>2010-01-11</td>\n",
       "      <td>2010-01-12</td>\n",
       "      <td>26.240000</td>\n",
       "      <td>26.320000</td>\n",
       "      <td>26.240000</td>\n",
       "      <td>UP</td>\n",
       "      <td>Monday</td>\n",
       "      <td>2010-01-11</td>\n",
       "      <td>Benzinga’s Top Downgrades (WEN, CMP, ACL, PPDI...</td>\n",
       "      <td>benzinga’s top downgrade wen cmp acl ppdi abc</td>\n",
       "    </tr>\n",
       "    <tr>\n",
       "      <th>56</th>\n",
       "      <td>ACN</td>\n",
       "      <td>2010-01-08</td>\n",
       "      <td>42.570000</td>\n",
       "      <td>2010-01-11</td>\n",
       "      <td>2010-01-12</td>\n",
       "      <td>42.439999</td>\n",
       "      <td>42.209999</td>\n",
       "      <td>42.439999</td>\n",
       "      <td>DOWN</td>\n",
       "      <td>Monday</td>\n",
       "      <td>2010-01-11</td>\n",
       "      <td>Economic Effects Of Tiger’s Misses! Is There A...</td>\n",
       "      <td>economic effect tiger’s miss sex tape tiger wo...</td>\n",
       "    </tr>\n",
       "    <tr>\n",
       "      <th>57</th>\n",
       "      <td>ADBE</td>\n",
       "      <td>2010-01-08</td>\n",
       "      <td>36.689999</td>\n",
       "      <td>2010-01-11</td>\n",
       "      <td>2010-01-12</td>\n",
       "      <td>36.680000</td>\n",
       "      <td>36.139999</td>\n",
       "      <td>36.680000</td>\n",
       "      <td>DOWN</td>\n",
       "      <td>Monday</td>\n",
       "      <td>2010-01-11</td>\n",
       "      <td>Silicon Valley Reeling Under High Vacancy Rate...</td>\n",
       "      <td>silicon valley reeling high vacancy rate cbg a...</td>\n",
       "    </tr>\n",
       "    <tr>\n",
       "      <th>66</th>\n",
       "      <td>AET</td>\n",
       "      <td>2010-01-08</td>\n",
       "      <td>32.700001</td>\n",
       "      <td>2010-01-11</td>\n",
       "      <td>2010-01-12</td>\n",
       "      <td>32.770000</td>\n",
       "      <td>32.630001</td>\n",
       "      <td>32.770000</td>\n",
       "      <td>UP</td>\n",
       "      <td>Monday</td>\n",
       "      <td>2010-01-11</td>\n",
       "      <td>Positive Outlook And Better Guidance Results I...</td>\n",
       "      <td>positive outlook better guidance result upgrad...</td>\n",
       "    </tr>\n",
       "  </tbody>\n",
       "</table>\n",
       "</div>"
      ],
      "text/plain": [
       "   ticker friday_date  friday_close     monday    tuesday  monday_open  \\\n",
       "52    AAP  2010-01-08     40.639999 2010-01-11 2010-01-12    40.720001   \n",
       "54    ABC  2010-01-08     26.049999 2010-01-11 2010-01-12    26.240000   \n",
       "56    ACN  2010-01-08     42.570000 2010-01-11 2010-01-12    42.439999   \n",
       "57   ADBE  2010-01-08     36.689999 2010-01-11 2010-01-12    36.680000   \n",
       "66    AET  2010-01-08     32.700001 2010-01-11 2010-01-12    32.770000   \n",
       "\n",
       "    tuesday_open  next_open target open_day open_date_used  \\\n",
       "52     39.430000  40.720001     UP   Monday     2010-01-11   \n",
       "54     26.320000  26.240000     UP   Monday     2010-01-11   \n",
       "56     42.209999  42.439999   DOWN   Monday     2010-01-11   \n",
       "57     36.139999  36.680000   DOWN   Monday     2010-01-11   \n",
       "66     32.630001  32.770000     UP   Monday     2010-01-11   \n",
       "\n",
       "                                     weekly_headlines  \\\n",
       "52  Advance Auto Parts – A Turnaround Candidate (AAP)   \n",
       "54  Benzinga’s Top Downgrades (WEN, CMP, ACL, PPDI...   \n",
       "56  Economic Effects Of Tiger’s Misses! Is There A...   \n",
       "57  Silicon Valley Reeling Under High Vacancy Rate...   \n",
       "66  Positive Outlook And Better Guidance Results I...   \n",
       "\n",
       "                               weekly_headlines_clean  \n",
       "52       advance auto part – turnaround candidate aap  \n",
       "54      benzinga’s top downgrade wen cmp acl ppdi abc  \n",
       "56  economic effect tiger’s miss sex tape tiger wo...  \n",
       "57  silicon valley reeling high vacancy rate cbg a...  \n",
       "66  positive outlook better guidance result upgrad...  "
      ]
     },
     "execution_count": 6,
     "metadata": {},
     "output_type": "execute_result"
    }
   ],
   "source": [
    "merged.head()"
   ]
  },
  {
   "cell_type": "code",
   "execution_count": 203,
   "id": "2e81f964-83c5-4de7-8ade-e81bb8ac0906",
   "metadata": {},
   "outputs": [
    {
     "name": "stdout",
     "output_type": "stream",
     "text": [
      "Vectorizing text...\n"
     ]
    }
   ],
   "source": [
    "# vectorize cleaned weekly headlines\n",
    "print(\"Vectorizing text...\")\n",
    "tfidf = TfidfVectorizer(max_features=5000)  # Limit features for memory\n",
    "X_text = tfidf.fit_transform(merged['weekly_headlines_clean'])"
   ]
  },
  {
   "cell_type": "code",
   "execution_count": 207,
   "id": "283fb46f-496b-490b-95d7-371bff96f5bb",
   "metadata": {},
   "outputs": [
    {
     "name": "stdout",
     "output_type": "stream",
     "text": [
      "Training model...\n",
      "Time required to train model (sec): 299.0\n"
     ]
    }
   ],
   "source": [
    "# train randomforest classifier and measure train time\n",
    "start = time.time()\n",
    "\n",
    "X = X_text\n",
    "y = merged['target']\n",
    "\n",
    "# Save original indices\n",
    "original_indices = merged.index\n",
    "\n",
    "X_train, X_test, y_train, y_test, train_idx, test_idx = train_test_split(\n",
    "    X, y, original_indices, test_size=0.2, random_state=42)\n",
    "\n",
    "print(\"Training model...\")\n",
    "clf = RandomForestClassifier(n_estimators=500, random_state=42)\n",
    "clf.fit(X_train, y_train)\n",
    "\n",
    "train_time = time.time() - start\n",
    "print('Time required to train model (sec): {:.1f}'.format(train_time))"
   ]
  },
  {
   "cell_type": "code",
   "execution_count": 208,
   "id": "0654c238-00a3-4139-8624-686410b12672",
   "metadata": {},
   "outputs": [
    {
     "name": "stdout",
     "output_type": "stream",
     "text": [
      "\n",
      "Confusion Matrix:\n",
      "      DOWN    UP\n",
      "DOWN  3960  2756\n",
      "UP    2945  3751\n",
      "\n",
      "Classification Report:\n",
      "              precision    recall  f1-score   support\n",
      "\n",
      "        DOWN       0.57      0.59      0.58      6716\n",
      "          UP       0.58      0.56      0.57      6696\n",
      "\n",
      "    accuracy                           0.57     13412\n",
      "   macro avg       0.57      0.57      0.57     13412\n",
      "weighted avg       0.57      0.57      0.57     13412\n",
      "\n"
     ]
    }
   ],
   "source": [
    "y_pred = clf.predict(X_test)\n",
    "\n",
    "# confusion matrix\n",
    "print(\"\\nConfusion Matrix:\")\n",
    "cm = confusion_matrix(y_test, y_pred)\n",
    "labels = sorted(y.unique())\n",
    "cm_df = pd.DataFrame(cm, index=labels, columns=labels)\n",
    "print(cm_df)\n",
    "\n",
    "# classification report\n",
    "print(\"\\nClassification Report:\")\n",
    "print(classification_report(y_test, y_pred))"
   ]
  },
  {
   "cell_type": "code",
   "execution_count": 210,
   "id": "f9cf7993-9f89-415b-899e-4bf0bf639566",
   "metadata": {},
   "outputs": [
    {
     "name": "stdout",
     "output_type": "stream",
     "text": [
      "      ticker  prob_up                                           headline\n",
      "49572    MPC    1.000  oppenheimer 3 healthcare stock 2 energy stock buy\n",
      "7821    URBN    0.998                         market rangebound 11302010\n",
      "1536     ETR    0.998      investor need pay attention dividend etf 2010\n",
      "9234    ATVI    0.998                          hysteria kill market nvax\n",
      "41418    MAR    0.996                   top exdividend stock may 21 2014\n",
      "1590    PBCT    0.996   real estate etf continue face major hurdle ahead\n",
      "40607      L    0.994  benzinga weekly preview earnings season contin...\n",
      "40640    NOV    0.994  benzinga weekly preview earnings season contin...\n",
      "10610      D    0.992  morgan stanley discontinues coverage ed xel ei...\n",
      "30626     MO    0.992  four large cap buyout candidate healthy divide...\n",
      "56467     CA    0.992                    top 20 wall street analyst 2015\n",
      "10598    CMS    0.992  morgan stanley discontinues coverage ed xel ei...\n",
      "43496   SPLS    0.992  benzinga weekly preview several large retailer...\n",
      "30584   GRMN    0.992  four large cap buyout candidate healthy divide...\n",
      "41032    KSS    0.992  benzinga weekly preview several large retailer...\n",
      "1900    BBBY    0.990  retailer partying like 2007 ralph lauren go be...\n",
      "52242    AMP    0.988  morgan stanley top 15 vintage value stock pick...\n",
      "10648    HCN    0.984  morgan keegan analyzes publicly traded healthc...\n",
      "37742    LNC    0.982       slideshow top 10 high dive sp 500 stock 2013\n",
      "21273    ITW    0.982  caterpillar discover financial illinois primar...\n"
     ]
    }
   ],
   "source": [
    "# get predicted probabilities of going 'UP'\n",
    "y_proba = clf.predict_proba(X_test)\n",
    "proba_up = y_proba[:, 1]\n",
    "\n",
    "# create dataframe to assess top predictions\n",
    "results = pd.DataFrame({\n",
    "    'ticker': merged.loc[test_idx, 'ticker'].values,\n",
    "    'prob_up': proba_up,\n",
    "    'true_label': y_test,\n",
    "    'headline': merged.loc[test_idx, 'weekly_headlines_clean'].values\n",
    "})\n",
    "\n",
    "# find top 20 mosst confident predictions for 'UP'\n",
    "top_20_up = results.sort_values('prob_up', ascending=False).head(20)\n",
    "print(top_20_up[['ticker', 'prob_up', 'headline']])"
   ]
  },
  {
   "cell_type": "code",
   "execution_count": 235,
   "id": "e8dccc45-b712-460d-89e4-077253cc67c0",
   "metadata": {},
   "outputs": [
    {
     "name": "stdout",
     "output_type": "stream",
     "text": [
      "Number of test rows from the selected week: 32\n"
     ]
    }
   ],
   "source": [
    "# Find top 10 likeliest stocks to go up in a given week\n",
    "# Step 1: set target week\n",
    "target_open_date = pd.to_datetime(\"2016-09-19\")\n",
    "week_data = merged[merged['open_date_used'] == target_open_date]\n",
    "\n",
    "# Step 2: Get the subset of test data from merged that matches this latest date\n",
    "# Filter merged rows that are both in the test set and match the latest date\n",
    "target_open_mask = (merged['open_date_used'] == target_open_date)\n",
    "target_open_test_mask = target_open_mask & merged.index.isin(test_idx)\n",
    "\n",
    "# Step 3: Get the indices for these filtered rows\n",
    "target_open_test_indices = merged[target_open_test_mask].index\n",
    "\n",
    "# Safety check\n",
    "print(f\"Number of test rows from the selected week: {len(target_open_test_indices)}\")"
   ]
  },
  {
   "cell_type": "code",
   "execution_count": 232,
   "id": "1cd19782-1f22-4844-975c-d6bb30dfb05e",
   "metadata": {},
   "outputs": [
    {
     "name": "stdout",
     "output_type": "stream",
     "text": [
      "For open date of:  2016-09-19 00:00:00\n",
      "   ticker   prob_up                                           headline\n",
      "20     EW  0.945389               cramers 11 stock buy fedfear selloff\n",
      "18    IVZ  0.742911            invesco report aug 31st aum 11 mom 821b\n",
      "30    EOG  0.676000  fbr capital initiate coverage eog resource out...\n",
      "28    ADS  0.663000  alliance data report 23 increase yoy receivabl...\n",
      "26    ALL  0.631267     allstate report catastrophe loss aug 2016 154m\n",
      "14    KSU  0.614000  morgan stanley share highlight freight confere...\n",
      "2     OXY  0.585564  benzingas top downgrade jp morgan downgrade oc...\n",
      "22    MYL  0.584702  house oversight committee hold sept 21 hearing...\n",
      "16    NRG  0.562000  watch 7 huge call purchase thursday trade opti...\n",
      "19     XL  0.559832  benzingas top downgrade janney capital downgra...\n"
     ]
    }
   ],
   "source": [
    "# Step 4: Get positional indices within X_test\n",
    "position_in_test = [i for i, idx in enumerate(test_idx) if idx in target_open_test_indices]\n",
    "\n",
    "# Step 5: Subset X_test and get predicted probabilities\n",
    "X_test_latest = X_test[position_in_test]\n",
    "y_prob_latest = clf.predict_proba(X_test_latest)\n",
    "up_probabilities_latest = y_prob_latest[:, 1]\n",
    "\n",
    "# Step 6: Prepare the merged DataFrame slice for matching rows\n",
    "merged_latest_test = merged.loc[test_idx].iloc[position_in_test]\n",
    "\n",
    "# Step 7: Create results DataFrame and display top 10 'UP' predictions\n",
    "results_latest = pd.DataFrame({\n",
    "    'ticker': merged_latest_test['ticker'].values,\n",
    "    'prob_up': up_probabilities_latest,\n",
    "    'true_label': y_test.iloc[position_in_test].values,\n",
    "    'headline': merged_latest_test['weekly_headlines_clean'].values\n",
    "})\n",
    "\n",
    "top_10_up = results_latest.sort_values('prob_up', ascending=False).head(10)\n",
    "print('For open date of: ', target_open_date)\n",
    "print(top_10_up[['ticker', 'prob_up', 'headline']])"
   ]
  },
  {
   "cell_type": "code",
   "execution_count": 233,
   "id": "4418acc1-a062-4ce1-a0e1-ae32b68111db",
   "metadata": {},
   "outputs": [
    {
     "name": "stdout",
     "output_type": "stream",
     "text": [
      "  ticker   prob_up  friday_close  monday_open  price_change  pct_change  \\\n",
      "0     EW  0.945389    116.599998   116.620003      0.020005    0.017157   \n",
      "1    IVZ  0.742911     30.180000    30.400000      0.220000    0.728960   \n",
      "2    EOG  0.676000     90.970001    91.660004      0.690003    0.758495   \n",
      "3    ADS  0.663000    214.479996   215.759995      1.279999    0.596792   \n",
      "4    ALL  0.631267     67.410004    67.580002      0.169998    0.252185   \n",
      "5    KSU  0.614000     91.070000    91.760002      0.690002    0.757661   \n",
      "6    OXY  0.585564     71.029999    71.529999      0.500000    0.703928   \n",
      "7    MYL  0.584702     41.790001    41.970001      0.180000    0.430725   \n",
      "8    NRG  0.562000     11.260000    11.270000      0.010000    0.088810   \n",
      "9     XL  0.559832     33.450001    33.540001      0.090000    0.269058   \n",
      "\n",
      "                                            headline  \n",
      "0               cramers 11 stock buy fedfear selloff  \n",
      "1            invesco report aug 31st aum 11 mom 821b  \n",
      "2  fbr capital initiate coverage eog resource out...  \n",
      "3  alliance data report 23 increase yoy receivabl...  \n",
      "4     allstate report catastrophe loss aug 2016 154m  \n",
      "5  morgan stanley share highlight freight confere...  \n",
      "6  benzingas top downgrade jp morgan downgrade oc...  \n",
      "7  house oversight committee hold sept 21 hearing...  \n",
      "8  watch 7 huge call purchase thursday trade opti...  \n",
      "9  benzingas top downgrade janney capital downgra...  \n"
     ]
    }
   ],
   "source": [
    "# model performance\n",
    "\n",
    "# find previous friday close and monday open prices for target open date\n",
    "friday_before = target_open_date - timedelta(days=3)\n",
    "tickers_of_interest = top_10_up['ticker'].unique()\n",
    "\n",
    "friday_prices = prices_df[\n",
    "    (prices_df['ticker'].isin(tickers_of_interest)) &\n",
    "    (prices_df['date'] == friday_before)\n",
    "][['ticker', 'close']].rename(columns={'close': 'friday_close'})\n",
    "\n",
    "monday_open_prices = prices_df[\n",
    "    (prices_df['ticker'].isin(tickers_of_interest)) &\n",
    "    (prices_df['date'] == target_open_date)\n",
    "][['ticker', 'open']].rename(columns={'open': 'monday_open'})\n",
    "\n",
    "# merge both prices into top_10_up\n",
    "top_10_enriched = top_10_up.merge(friday_prices, on='ticker', how='left')\n",
    "top_10_enriched = top_10_enriched.merge(monday_open_prices, on='ticker', how='left')\n",
    "\n",
    "# 8. Compute the price change (absolute and percentage)\n",
    "top_10_enriched['price_change'] = top_10_enriched['monday_open'] - top_10_enriched['friday_close']\n",
    "top_10_enriched['pct_change'] = (top_10_enriched['price_change'] / top_10_enriched['friday_close']) * 100\n",
    "\n",
    "# 9. Display the final result\n",
    "print(top_10_enriched[['ticker', 'prob_up', 'friday_close', 'monday_open', 'price_change', 'pct_change', 'headline']])"
   ]
  },
  {
   "cell_type": "markdown",
   "id": "71667660-9d48-42b7-93cb-1e69a873fbac",
   "metadata": {},
   "source": [
    "## Including Weekly Volatility"
   ]
  },
  {
   "cell_type": "code",
   "execution_count": 15,
   "id": "4eb5efa9-eaf6-4685-9f31-6a3b0532c1fd",
   "metadata": {},
   "outputs": [],
   "source": [
    "# compute daily returns\n",
    "prices_df.sort_values(by=['ticker', 'date'], inplace=True)\n",
    "prices_df['daily_return'] = prices_df.groupby('ticker')['close'].pct_change()"
   ]
  },
  {
   "cell_type": "code",
   "execution_count": 17,
   "id": "207cc192-44c8-446e-888e-45d443f1b80f",
   "metadata": {},
   "outputs": [],
   "source": [
    "# add week of column to allow grouping by ticker and week\n",
    "prices_df['week'] = prices_df['date'].dt.to_period('W').apply(lambda r: r.start_time)"
   ]
  },
  {
   "cell_type": "code",
   "execution_count": 22,
   "id": "19e23831-85dc-4d65-a7b0-102da8b20dae",
   "metadata": {},
   "outputs": [],
   "source": [
    "# compute weekly volatility\n",
    "weekly_volatility = prices_df.groupby(['ticker', 'week'])['daily_return'].std().reset_index()\n",
    "weekly_volatility.rename(columns={'daily_return': 'weekly_volatility'}, inplace=True)\n",
    "\n",
    "# lag weekly volatility to use the previous week's volatility\n",
    "weekly_volatility['previous_week'] = weekly_volatility.groupby('ticker')['weekly_volatility'].shift(1)"
   ]
  },
  {
   "cell_type": "code",
   "execution_count": 25,
   "id": "3b12899e-f00a-4d44-893a-f9647d21dd2c",
   "metadata": {},
   "outputs": [],
   "source": [
    "# merge weekly volatility into previously merged data\n",
    "merged['week'] = merged['monday'].dt.to_period('W').apply(lambda r: r.start_time)\n",
    "merged = pd.merge(merged, weekly_volatility[['ticker', 'week', 'previous_week']], \n",
    "                  on=['ticker', 'week'], how='left')"
   ]
  },
  {
   "cell_type": "code",
   "execution_count": 28,
   "id": "b81581e6-354a-4ba9-8964-4ac2ac7c2142",
   "metadata": {},
   "outputs": [],
   "source": [
    "# standardize volatility\n",
    "# Drop rows with missing volatility\n",
    "merged_model = merged.dropna(subset=['previous_week']).copy()\n",
    "\n",
    "# Create a scaler\n",
    "scaler = StandardScaler()\n",
    "\n",
    "# Fit and transform the 'previous_week' column\n",
    "merged_model['volatility_scaled'] = scaler.fit_transform(\n",
    "    merged_model[['previous_week']]\n",
    ")"
   ]
  },
  {
   "cell_type": "code",
   "execution_count": 31,
   "id": "f3a1c6b1-0fea-4767-a617-5153c993aa4d",
   "metadata": {},
   "outputs": [],
   "source": [
    "# concatenate TF-IDF matrix with volatility feature\n",
    "X_text = tfidf.fit_transform(merged_model['weekly_headlines_clean'])\n",
    "\n",
    "volatility_sparse = sparse.csr_matrix(\n",
    "    merged_model['volatility_scaled'].values.reshape(-1, 1)\n",
    ")\n",
    "\n",
    "# Combine text features and volatility\n",
    "X = hstack([X_text, volatility_sparse])\n",
    "y = merged_model['target']"
   ]
  },
  {
   "cell_type": "code",
   "execution_count": 35,
   "id": "c95f5208-7e5a-4c36-9528-117c6457dcdb",
   "metadata": {},
   "outputs": [
    {
     "name": "stdout",
     "output_type": "stream",
     "text": [
      "Training model...\n",
      "Time required to train model (sec): 282.9\n"
     ]
    }
   ],
   "source": [
    "# initialize and train the classifier\n",
    "X_train, X_test, y_train, y_test = train_test_split(\n",
    "    X, y, test_size=0.2, random_state=42\n",
    ")\n",
    "\n",
    "svm_clf = SVC(kernel='linear')\n",
    "\n",
    "# Train model\n",
    "print(\"Training model...\")\n",
    "start = time.time()\n",
    "svm_clf.fit(X_train, y_train)\n",
    "train_time = time.time() - start\n",
    "print('Time required to train model (sec): {:.1f}'.format(train_time))"
   ]
  },
  {
   "cell_type": "code",
   "execution_count": 36,
   "id": "e429c1a4-886c-4e91-812e-a1dee8405375",
   "metadata": {},
   "outputs": [
    {
     "name": "stdout",
     "output_type": "stream",
     "text": [
      "\n",
      "Confusion Matrix:\n",
      "      DOWN    UP\n",
      "DOWN  3884  2840\n",
      "UP    3303  3384\n",
      "\n",
      "Classification Report:\n",
      "              precision    recall  f1-score   support\n",
      "\n",
      "        DOWN       0.54      0.58      0.56      6724\n",
      "          UP       0.54      0.51      0.52      6687\n",
      "\n",
      "    accuracy                           0.54     13411\n",
      "   macro avg       0.54      0.54      0.54     13411\n",
      "weighted avg       0.54      0.54      0.54     13411\n",
      "\n"
     ]
    }
   ],
   "source": [
    "y_pred = svm_clf.predict(X_test)\n",
    "\n",
    "# confusion matrix\n",
    "print(\"\\nConfusion Matrix:\")\n",
    "cm = confusion_matrix(y_test, y_pred)\n",
    "labels = sorted(y.unique())\n",
    "cm_df = pd.DataFrame(cm, index=labels, columns=labels)\n",
    "print(cm_df)\n",
    "\n",
    "# classification report\n",
    "print(\"\\nClassification Report:\")\n",
    "print(classification_report(y_test, y_pred))"
   ]
  },
  {
   "cell_type": "code",
   "execution_count": 44,
   "id": "574f2f4f-602a-4926-8543-23a07f35e12a",
   "metadata": {},
   "outputs": [
    {
     "name": "stdout",
     "output_type": "stream",
     "text": [
      "Time required to train model (sec): 2.9\n"
     ]
    }
   ],
   "source": [
    "# try xgboost\n",
    "y = merged_model['target'].map({'DOWN': 0, 'UP': 1})\n",
    "\n",
    "X_train, X_test, y_train, y_test = train_test_split(\n",
    "    X, y, test_size=0.2, random_state=42\n",
    ")\n",
    "\n",
    "start = time.time()\n",
    "\n",
    "# Define model\n",
    "xgb_clf = xgb.XGBClassifier(\n",
    "    n_estimators=100,\n",
    "    max_depth=5,\n",
    "    learning_rate=0.1,\n",
    "    eval_metric='logloss',\n",
    "    random_state=42\n",
    ")\n",
    "\n",
    "# Fit the model\n",
    "xgb_clf.fit(X_train, y_train)\n",
    "\n",
    "train_time = time.time() - start\n",
    "print('Time required to train model (sec): {:.1f}'.format(train_time))"
   ]
  },
  {
   "cell_type": "code",
   "execution_count": 45,
   "id": "e11f4ad0-92fb-4ffe-a421-0a796a068eff",
   "metadata": {},
   "outputs": [
    {
     "name": "stdout",
     "output_type": "stream",
     "text": [
      "\n",
      "Confusion Matrix:\n",
      "      0     1\n",
      "0  4527  2197\n",
      "1  4008  2679\n",
      "\n",
      "Classification Report:\n",
      "              precision    recall  f1-score   support\n",
      "\n",
      "           0       0.53      0.67      0.59      6724\n",
      "           1       0.55      0.40      0.46      6687\n",
      "\n",
      "    accuracy                           0.54     13411\n",
      "   macro avg       0.54      0.54      0.53     13411\n",
      "weighted avg       0.54      0.54      0.53     13411\n",
      "\n"
     ]
    }
   ],
   "source": [
    "y_pred = xgb_clf.predict(X_test)\n",
    "\n",
    "# confusion matrix\n",
    "print(\"\\nConfusion Matrix:\")\n",
    "cm = confusion_matrix(y_test, y_pred)\n",
    "labels = sorted(y.unique())\n",
    "cm_df = pd.DataFrame(cm, index=labels, columns=labels)\n",
    "print(cm_df)\n",
    "\n",
    "# classification report\n",
    "print(\"\\nClassification Report:\")\n",
    "print(classification_report(y_test, y_pred))"
   ]
  },
  {
   "cell_type": "code",
   "execution_count": 46,
   "id": "c0f06a3b-e26f-445b-8bdc-f054b30ac8b3",
   "metadata": {},
   "outputs": [
    {
     "name": "stdout",
     "output_type": "stream",
     "text": [
      "Full vocabulary size: 57105\n"
     ]
    }
   ],
   "source": [
    "vectorizer_full = TfidfVectorizer()\n",
    "vectorizer_full.fit(merged['weekly_headlines_clean'])\n",
    "print(\"Full vocabulary size:\", len(vectorizer_full.vocabulary_))"
   ]
  },
  {
   "cell_type": "code",
   "execution_count": 49,
   "id": "004702cb-e05b-41d1-9c36-eab682d5a7ce",
   "metadata": {},
   "outputs": [
    {
     "name": "stdout",
     "output_type": "stream",
     "text": [
      "max_features=500, Accuracy=0.5576, Train time=49.48\n",
      "max_features=1000, Accuracy=0.5650, Train time=52.80\n",
      "max_features=5000, Accuracy=0.5720, Train time=60.82\n",
      "max_features=None, Accuracy=0.5720, Train time=357.87\n"
     ]
    }
   ],
   "source": [
    "from sklearn.metrics import accuracy_score\n",
    "\n",
    "for max_feat in [500, 1000, 5000, None]:\n",
    "    start = time.time()\n",
    "    \n",
    "    tfidf = TfidfVectorizer(max_features=max_feat)\n",
    "    X_text = tfidf.fit_transform(merged['weekly_headlines_clean'])\n",
    "    y = merged['target']\n",
    "    \n",
    "    X_train, X_test, y_train, y_test = train_test_split(X_text, y, test_size=0.2, random_state=42)\n",
    "    \n",
    "    clf.fit(X_train, y_train)\n",
    "    \n",
    "    y_pred = clf.predict(X_test)\n",
    "    score = accuracy_score(y_test, y_pred)\n",
    "    \n",
    "    train_time = time.time() - start\n",
    "    print(f\"max_features={max_feat}, Accuracy={score:.4f}, Train time={train_time:.2f}\")"
   ]
  },
  {
   "cell_type": "code",
   "execution_count": 51,
   "id": "ed66cbf5-2bd3-4a10-8a09-3c4faad5f23d",
   "metadata": {},
   "outputs": [
    {
     "name": "stdout",
     "output_type": "stream",
     "text": [
      "n_estimators: 100 | Accuracy: 0.5720 | Train time: 62.13\n",
      "n_estimators: 200 | Accuracy: 0.5742 | Train time: 123.55\n",
      "n_estimators: 500 | Accuracy: 0.5749 | Train time: 316.46\n",
      "n_estimators: 1000 | Accuracy: 0.5771 | Train time: 647.61\n"
     ]
    }
   ],
   "source": [
    "tfidf = TfidfVectorizer(max_features=5000)\n",
    "X_text = tfidf.fit_transform(merged['weekly_headlines_clean'])\n",
    "X_train, X_test, y_train, y_test = train_test_split(X_text, y, test_size=0.2, random_state=42)\n",
    "\n",
    "for n in [100, 200, 500, 1000]:\n",
    "    start = time.time()\n",
    "    clf = RandomForestClassifier(n_estimators=n, random_state=42)\n",
    "    clf.fit(X_train, y_train)\n",
    "    preds = clf.predict(X_test)\n",
    "    acc = accuracy_score(y_test, preds)\n",
    "    train_time = time.time() - start\n",
    "    print(f\"n_estimators: {n} | Accuracy: {acc:.4f} | Train time: {train_time:.2f}\")"
   ]
  },
  {
   "cell_type": "code",
   "execution_count": 53,
   "id": "e48134db-63ec-4c28-996a-2308b468e042",
   "metadata": {},
   "outputs": [
    {
     "name": "stdout",
     "output_type": "stream",
     "text": [
      "Accuracy: 0.5463 |Train time: 0.18\n",
      "\n",
      "Confusion Matrix:\n",
      " [[3690 3026]\n",
      " [3059 3637]]\n",
      "Classification Report:\n",
      "               precision    recall  f1-score   support\n",
      "\n",
      "        DOWN       0.55      0.55      0.55      6716\n",
      "          UP       0.55      0.54      0.54      6696\n",
      "\n",
      "    accuracy                           0.55     13412\n",
      "   macro avg       0.55      0.55      0.55     13412\n",
      "weighted avg       0.55      0.55      0.55     13412\n",
      "\n"
     ]
    }
   ],
   "source": [
    "from sklearn.linear_model import LogisticRegression\n",
    "\n",
    "start = time.time()\n",
    "\n",
    "# Initialize model\n",
    "log_reg = LogisticRegression(max_iter=2000, random_state=42)\n",
    "\n",
    "# Fit model\n",
    "log_reg.fit(X_train, y_train)\n",
    "\n",
    "# Make predictions\n",
    "y_pred = log_reg.predict(X_test)\n",
    "\n",
    "train_time = time.time() - start\n",
    "\n",
    "# Evaluate\n",
    "acc = accuracy_score(y_test, y_pred)\n",
    "print(f\"Accuracy: {acc:.4f} |Train time: {train_time:.2f}\")\n",
    "print(\"\\nConfusion Matrix:\\n\", confusion_matrix(y_test, y_pred))\n",
    "print(\"Classification Report:\\n\", classification_report(y_test, y_pred))"
   ]
  },
  {
   "cell_type": "markdown",
   "id": "f750744a-daa9-4780-ad9b-1acf585b532e",
   "metadata": {},
   "source": [
    "## Neural Network"
   ]
  },
  {
   "cell_type": "code",
   "execution_count": 192,
   "id": "0ba65dac-c869-47e8-bae6-7d2fb7e727b5",
   "metadata": {},
   "outputs": [],
   "source": [
    "from tensorflow.keras.models import Sequential\n",
    "from tensorflow.keras.layers import Input, Dense, Dropout\n",
    "from tensorflow.keras.callbacks import EarlyStopping\n",
    "from tensorflow.keras.optimizers import Adam"
   ]
  },
  {
   "cell_type": "code",
   "execution_count": 199,
   "id": "79a63aa4-5f24-4c84-b956-feb9fe86d8ae",
   "metadata": {},
   "outputs": [
    {
     "data": {
      "text/html": [
       "<pre style=\"white-space:pre;overflow-x:auto;line-height:normal;font-family:Menlo,'DejaVu Sans Mono',consolas,'Courier New',monospace\"><span style=\"font-weight: bold\">Model: \"sequential_34\"</span>\n",
       "</pre>\n"
      ],
      "text/plain": [
       "\u001b[1mModel: \"sequential_34\"\u001b[0m\n"
      ]
     },
     "metadata": {},
     "output_type": "display_data"
    },
    {
     "data": {
      "text/html": [
       "<pre style=\"white-space:pre;overflow-x:auto;line-height:normal;font-family:Menlo,'DejaVu Sans Mono',consolas,'Courier New',monospace\">┏━━━━━━━━━━━━━━━━━━━━━━━━━━━━━━━━━┳━━━━━━━━━━━━━━━━━━━━━━━━┳━━━━━━━━━━━━━━━┓\n",
       "┃<span style=\"font-weight: bold\"> Layer (type)                    </span>┃<span style=\"font-weight: bold\"> Output Shape           </span>┃<span style=\"font-weight: bold\">       Param # </span>┃\n",
       "┡━━━━━━━━━━━━━━━━━━━━━━━━━━━━━━━━━╇━━━━━━━━━━━━━━━━━━━━━━━━╇━━━━━━━━━━━━━━━┩\n",
       "│ dense_100 (<span style=\"color: #0087ff; text-decoration-color: #0087ff\">Dense</span>)               │ (<span style=\"color: #00d7ff; text-decoration-color: #00d7ff\">None</span>, <span style=\"color: #00af00; text-decoration-color: #00af00\">128</span>)            │       <span style=\"color: #00af00; text-decoration-color: #00af00\">640,128</span> │\n",
       "├─────────────────────────────────┼────────────────────────┼───────────────┤\n",
       "│ dropout_62 (<span style=\"color: #0087ff; text-decoration-color: #0087ff\">Dropout</span>)            │ (<span style=\"color: #00d7ff; text-decoration-color: #00d7ff\">None</span>, <span style=\"color: #00af00; text-decoration-color: #00af00\">128</span>)            │             <span style=\"color: #00af00; text-decoration-color: #00af00\">0</span> │\n",
       "├─────────────────────────────────┼────────────────────────┼───────────────┤\n",
       "│ dense_101 (<span style=\"color: #0087ff; text-decoration-color: #0087ff\">Dense</span>)               │ (<span style=\"color: #00d7ff; text-decoration-color: #00d7ff\">None</span>, <span style=\"color: #00af00; text-decoration-color: #00af00\">64</span>)             │         <span style=\"color: #00af00; text-decoration-color: #00af00\">8,256</span> │\n",
       "├─────────────────────────────────┼────────────────────────┼───────────────┤\n",
       "│ dropout_63 (<span style=\"color: #0087ff; text-decoration-color: #0087ff\">Dropout</span>)            │ (<span style=\"color: #00d7ff; text-decoration-color: #00d7ff\">None</span>, <span style=\"color: #00af00; text-decoration-color: #00af00\">64</span>)             │             <span style=\"color: #00af00; text-decoration-color: #00af00\">0</span> │\n",
       "├─────────────────────────────────┼────────────────────────┼───────────────┤\n",
       "│ dense_102 (<span style=\"color: #0087ff; text-decoration-color: #0087ff\">Dense</span>)               │ (<span style=\"color: #00d7ff; text-decoration-color: #00d7ff\">None</span>, <span style=\"color: #00af00; text-decoration-color: #00af00\">1</span>)              │            <span style=\"color: #00af00; text-decoration-color: #00af00\">65</span> │\n",
       "└─────────────────────────────────┴────────────────────────┴───────────────┘\n",
       "</pre>\n"
      ],
      "text/plain": [
       "┏━━━━━━━━━━━━━━━━━━━━━━━━━━━━━━━━━┳━━━━━━━━━━━━━━━━━━━━━━━━┳━━━━━━━━━━━━━━━┓\n",
       "┃\u001b[1m \u001b[0m\u001b[1mLayer (type)                   \u001b[0m\u001b[1m \u001b[0m┃\u001b[1m \u001b[0m\u001b[1mOutput Shape          \u001b[0m\u001b[1m \u001b[0m┃\u001b[1m \u001b[0m\u001b[1m      Param #\u001b[0m\u001b[1m \u001b[0m┃\n",
       "┡━━━━━━━━━━━━━━━━━━━━━━━━━━━━━━━━━╇━━━━━━━━━━━━━━━━━━━━━━━━╇━━━━━━━━━━━━━━━┩\n",
       "│ dense_100 (\u001b[38;5;33mDense\u001b[0m)               │ (\u001b[38;5;45mNone\u001b[0m, \u001b[38;5;34m128\u001b[0m)            │       \u001b[38;5;34m640,128\u001b[0m │\n",
       "├─────────────────────────────────┼────────────────────────┼───────────────┤\n",
       "│ dropout_62 (\u001b[38;5;33mDropout\u001b[0m)            │ (\u001b[38;5;45mNone\u001b[0m, \u001b[38;5;34m128\u001b[0m)            │             \u001b[38;5;34m0\u001b[0m │\n",
       "├─────────────────────────────────┼────────────────────────┼───────────────┤\n",
       "│ dense_101 (\u001b[38;5;33mDense\u001b[0m)               │ (\u001b[38;5;45mNone\u001b[0m, \u001b[38;5;34m64\u001b[0m)             │         \u001b[38;5;34m8,256\u001b[0m │\n",
       "├─────────────────────────────────┼────────────────────────┼───────────────┤\n",
       "│ dropout_63 (\u001b[38;5;33mDropout\u001b[0m)            │ (\u001b[38;5;45mNone\u001b[0m, \u001b[38;5;34m64\u001b[0m)             │             \u001b[38;5;34m0\u001b[0m │\n",
       "├─────────────────────────────────┼────────────────────────┼───────────────┤\n",
       "│ dense_102 (\u001b[38;5;33mDense\u001b[0m)               │ (\u001b[38;5;45mNone\u001b[0m, \u001b[38;5;34m1\u001b[0m)              │            \u001b[38;5;34m65\u001b[0m │\n",
       "└─────────────────────────────────┴────────────────────────┴───────────────┘\n"
      ]
     },
     "metadata": {},
     "output_type": "display_data"
    },
    {
     "data": {
      "text/html": [
       "<pre style=\"white-space:pre;overflow-x:auto;line-height:normal;font-family:Menlo,'DejaVu Sans Mono',consolas,'Courier New',monospace\"><span style=\"font-weight: bold\"> Total params: </span><span style=\"color: #00af00; text-decoration-color: #00af00\">648,449</span> (2.47 MB)\n",
       "</pre>\n"
      ],
      "text/plain": [
       "\u001b[1m Total params: \u001b[0m\u001b[38;5;34m648,449\u001b[0m (2.47 MB)\n"
      ]
     },
     "metadata": {},
     "output_type": "display_data"
    },
    {
     "data": {
      "text/html": [
       "<pre style=\"white-space:pre;overflow-x:auto;line-height:normal;font-family:Menlo,'DejaVu Sans Mono',consolas,'Courier New',monospace\"><span style=\"font-weight: bold\"> Trainable params: </span><span style=\"color: #00af00; text-decoration-color: #00af00\">648,449</span> (2.47 MB)\n",
       "</pre>\n"
      ],
      "text/plain": [
       "\u001b[1m Trainable params: \u001b[0m\u001b[38;5;34m648,449\u001b[0m (2.47 MB)\n"
      ]
     },
     "metadata": {},
     "output_type": "display_data"
    },
    {
     "data": {
      "text/html": [
       "<pre style=\"white-space:pre;overflow-x:auto;line-height:normal;font-family:Menlo,'DejaVu Sans Mono',consolas,'Courier New',monospace\"><span style=\"font-weight: bold\"> Non-trainable params: </span><span style=\"color: #00af00; text-decoration-color: #00af00\">0</span> (0.00 B)\n",
       "</pre>\n"
      ],
      "text/plain": [
       "\u001b[1m Non-trainable params: \u001b[0m\u001b[38;5;34m0\u001b[0m (0.00 B)\n"
      ]
     },
     "metadata": {},
     "output_type": "display_data"
    }
   ],
   "source": [
    "# Build model\n",
    "model = Sequential([\n",
    "    Input(shape=(X_train.shape[1],)),  # Explicit input layer\n",
    "    Dense(128,activation='relu'),\n",
    "    Dropout(0.6),\n",
    "    Dense(64, activation='relu'),\n",
    "    Dropout(0.3),\n",
    "    Dense(1, activation='sigmoid')  # Binary classification\n",
    "])\n",
    "\n",
    "model.summary()"
   ]
  },
  {
   "cell_type": "code",
   "execution_count": 200,
   "id": "40060b2d-62d6-4c4c-b378-9dde7e0d1c8c",
   "metadata": {},
   "outputs": [],
   "source": [
    "# Compile model\n",
    "model.compile(\n",
    "    loss='binary_crossentropy',\n",
    "    optimizer='adam',\n",
    "    metrics=['accuracy'])\n",
    "\n",
    "# Early stopping\n",
    "early_stop = EarlyStopping(monitor='val_loss', patience=3, restore_best_weights=True)"
   ]
  },
  {
   "cell_type": "code",
   "execution_count": 201,
   "id": "a2299c93-e794-4da9-aea7-90c1396ff8b8",
   "metadata": {},
   "outputs": [
    {
     "name": "stdout",
     "output_type": "stream",
     "text": [
      "Epoch 1/10\n",
      "\u001b[1m168/168\u001b[0m \u001b[32m━━━━━━━━━━━━━━━━━━━━\u001b[0m\u001b[37m\u001b[0m \u001b[1m2s\u001b[0m 7ms/step - accuracy: 0.5106 - loss: 0.6926 - val_accuracy: 0.5391 - val_loss: 0.6887\n",
      "Epoch 2/10\n",
      "\u001b[1m168/168\u001b[0m \u001b[32m━━━━━━━━━━━━━━━━━━━━\u001b[0m\u001b[37m\u001b[0m \u001b[1m1s\u001b[0m 6ms/step - accuracy: 0.5933 - loss: 0.6735 - val_accuracy: 0.5505 - val_loss: 0.6857\n",
      "Epoch 3/10\n",
      "\u001b[1m168/168\u001b[0m \u001b[32m━━━━━━━━━━━━━━━━━━━━\u001b[0m\u001b[37m\u001b[0m \u001b[1m1s\u001b[0m 6ms/step - accuracy: 0.6379 - loss: 0.6386 - val_accuracy: 0.5553 - val_loss: 0.6942\n",
      "Epoch 4/10\n",
      "\u001b[1m168/168\u001b[0m \u001b[32m━━━━━━━━━━━━━━━━━━━━\u001b[0m\u001b[37m\u001b[0m \u001b[1m1s\u001b[0m 5ms/step - accuracy: 0.6879 - loss: 0.5940 - val_accuracy: 0.5526 - val_loss: 0.7163\n",
      "Epoch 5/10\n",
      "\u001b[1m168/168\u001b[0m \u001b[32m━━━━━━━━━━━━━━━━━━━━\u001b[0m\u001b[37m\u001b[0m \u001b[1m1s\u001b[0m 5ms/step - accuracy: 0.7261 - loss: 0.5472 - val_accuracy: 0.5559 - val_loss: 0.7385\n",
      "Epoch 6/10\n",
      "\u001b[1m168/168\u001b[0m \u001b[32m━━━━━━━━━━━━━━━━━━━━\u001b[0m\u001b[37m\u001b[0m \u001b[1m1s\u001b[0m 6ms/step - accuracy: 0.7726 - loss: 0.4843 - val_accuracy: 0.5569 - val_loss: 0.7731\n",
      "Epoch 7/10\n",
      "\u001b[1m168/168\u001b[0m \u001b[32m━━━━━━━━━━━━━━━━━━━━\u001b[0m\u001b[37m\u001b[0m \u001b[1m1s\u001b[0m 6ms/step - accuracy: 0.8058 - loss: 0.4304 - val_accuracy: 0.5538 - val_loss: 0.8067\n",
      "Epoch 8/10\n",
      "\u001b[1m168/168\u001b[0m \u001b[32m━━━━━━━━━━━━━━━━━━━━\u001b[0m\u001b[37m\u001b[0m \u001b[1m1s\u001b[0m 5ms/step - accuracy: 0.8307 - loss: 0.3812 - val_accuracy: 0.5553 - val_loss: 0.8523\n",
      "Epoch 9/10\n",
      "\u001b[1m168/168\u001b[0m \u001b[32m━━━━━━━━━━━━━━━━━━━━\u001b[0m\u001b[37m\u001b[0m \u001b[1m1s\u001b[0m 5ms/step - accuracy: 0.8498 - loss: 0.3418 - val_accuracy: 0.5580 - val_loss: 0.8905\n",
      "Epoch 10/10\n",
      "\u001b[1m168/168\u001b[0m \u001b[32m━━━━━━━━━━━━━━━━━━━━\u001b[0m\u001b[37m\u001b[0m \u001b[1m1s\u001b[0m 6ms/step - accuracy: 0.8663 - loss: 0.3124 - val_accuracy: 0.5594 - val_loss: 0.9342\n",
      "\u001b[1m420/420\u001b[0m \u001b[32m━━━━━━━━━━━━━━━━━━━━\u001b[0m\u001b[37m\u001b[0m \u001b[1m0s\u001b[0m 554us/step\n",
      "Accuracy: 0.5660 |Train time: 11.84\n",
      "\n",
      "Confusion Matrix:\n",
      " [[3788 2928]\n",
      " [2893 3803]]\n",
      "Classification Report:\n",
      "               precision    recall  f1-score   support\n",
      "\n",
      "           0       0.57      0.56      0.57      6716\n",
      "           1       0.56      0.57      0.57      6696\n",
      "\n",
      "    accuracy                           0.57     13412\n",
      "   macro avg       0.57      0.57      0.57     13412\n",
      "weighted avg       0.57      0.57      0.57     13412\n",
      "\n"
     ]
    }
   ],
   "source": [
    "tfidf = TfidfVectorizer(max_features=5000)\n",
    "X_text = tfidf.fit_transform(merged['weekly_headlines_clean'])\n",
    "y = merged['target'].map({'DOWN': 0, 'UP': 1})  # Ensure numeric target\n",
    "\n",
    "X_train, X_test, y_train, y_test = train_test_split(X_text, y, test_size=0.2, random_state=42)\n",
    "\n",
    "X_train_dense = X_train.toarray().astype('float32')\n",
    "X_test_dense = X_test.toarray().astype('float32')\n",
    "\n",
    "start = time.time()\n",
    "\n",
    "# Train model\n",
    "history = model.fit(\n",
    "    X_train.toarray(), y_train,\n",
    "    validation_split=0.2,\n",
    "    epochs=10,\n",
    "    batch_size=256,\n",
    "    verbose=1\n",
    ")\n",
    "\n",
    "# Predict and evaluate\n",
    "y_pred_nn = (model.predict(X_test.toarray()) > 0.5).astype(\"int32\")\n",
    "acc = accuracy_score(y_test, y_pred_nn)\n",
    "\n",
    "train_time = time.time() - start\n",
    "\n",
    "print(f\"Accuracy: {acc:.4f} |Train time: {train_time:.2f}\")\n",
    "print(\"\\nConfusion Matrix:\\n\", confusion_matrix(y_test, y_pred_nn))\n",
    "print(\"Classification Report:\\n\", classification_report(y_test, y_pred_nn))"
   ]
  },
  {
   "cell_type": "code",
   "execution_count": 202,
   "id": "aa6ef56d-e82b-4da2-b8ce-61c68fb933ec",
   "metadata": {},
   "outputs": [
    {
     "data": {
      "image/png": "[encoded data removed]",
      "text/plain": [
       "<Figure size 800x500 with 1 Axes>"
      ]
     },
     "metadata": {},
     "output_type": "display_data"
    }
   ],
   "source": [
    "pd.DataFrame(history.history).plot(\n",
    "    figsize=(8,5), xlim=[0, 10], ylim=[0, 1], grid=True, xlabel='Epoch',\n",
    "    style=['r--', 'r--.', 'b-', 'b-*'])\n",
    "plt.title('Learning Curves: 2 Hidden Layers, 128/64 Neurons')\n",
    "plt.show()"
   ]
  },
  {
   "cell_type": "code",
   "execution_count": null,
   "id": "f304d648-bbe7-4cd8-9aa1-c41072e571af",
   "metadata": {},
   "outputs": [],
   "source": [
    "# Compute 52-week moving average and percent undervalued/overvalued\n",
    "\n",
    "# 52-week (approx. 252 trading days) moving average\n",
    "prices_df['52wk_ma'] = prices_df.groupby('ticker')['close'].transform(lambda x: x.rolling(window=252, min_periods=20).mean())\n",
    "\n",
    "# Create new feature: percent_diff_from_52wk_avg = (close - 52wk_ma) / 52wk_ma\n",
    "prices_df['percent_from_52wk_avg'] = (prices_df['close'] - prices_df['52wk_ma']) / prices_df['52wk_ma']\n",
    "\n",
    "# Get previous Friday's close for each open_date_used\n",
    "merged['prev_friday'] = pd.to_datetime(merged['open_date_used']) - pd.to_timedelta(pd.to_datetime(merged['open_date_used']).dt.weekday + 3, unit='D')\n",
    "merged = merged.merge(\n",
    "    prices_df[['ticker', 'date', 'percent_from_52wk_avg']],\n",
    "    left_on=['ticker', 'prev_friday'],\n",
    "    right_on=['ticker', 'date'],\n",
    "    how='left'\n",
    ")\n",
    "\n",
    "# Clean up merged dataframe\n",
    "merged = merged.rename(columns={'percent_from_52wk_avg': 'valuation_feature'})\n",
    "merged.drop(columns=['date'], inplace=True)"
   ]
  },
  {
   "cell_type": "markdown",
   "id": "b9c05822",
   "metadata": {},
   "source": [
    "### Repeat Random Forest Classifier training using daily headline data\n",
    "\n",
    "Create a new `merged_1day` dataframe that contains each trading day's close, the previous day's close, and the previous day's headlines."
   ]
  },
  {
   "cell_type": "code",
   "execution_count": null,
   "id": "d8cd202b",
   "metadata": {},
   "outputs": [],
   "source": [
    "# normalize dates to remove time & timezone info\n",
    "news_1day = news_df.copy()\n",
    "news_1day['date'] = pd.to_datetime(news_1day['date'], utc=True)\n",
    "news_1day['date'] = news_1day['date'].dt.tz_localize(None).dt.normalize()\n",
    "\n",
    "# ensure price dates are also normalized\n",
    "prices_df['date'] = pd.to_datetime(prices_df['date'])\n",
    "prices_df['date'] = prices_df['date'].dt.normalize()\n",
    "\n",
    "# limit news to same range as prices\n",
    "min_price_date = prices_df['date'].min()\n",
    "max_price_date = prices_df['date'].max()\n",
    "\n",
    "news_1day = news_1day[\n",
    "    (news_1day['date'] >= min_price_date) &\n",
    "    (news_1day['date'] <= max_price_date)\n",
    "]\n",
    "\n",
    "# get previous trading day per ticker\n",
    "# sort and shift to get the previous trading day for each ticker\n",
    "prices_1day = prices_df[['ticker', 'date', 'close']].copy()\n",
    "prices_1day = prices_1day.sort_values(['ticker', 'date'])\n",
    "prices_1day['prev_trading_date'] = prices_1day.groupby('ticker')['date'].shift(1)\n",
    "\n",
    "# merge with news from the previous trading day\n",
    "merged_with_news = pd.merge(\n",
    "    prices_1day,\n",
    "    news_1day[['ticker', 'date', 'headline']],\n",
    "    left_on=['ticker', 'prev_trading_date'],\n",
    "    right_on=['ticker', 'date'],\n",
    "    how='left'\n",
    ")\n",
    "\n",
    "# rename to avoid confusion\n",
    "news_with_price = merged_with_news.rename(columns={\n",
    "    'date_x': 'date',            # trading date\n",
    "    'date_y': 'headline_date'    # date of the news\n",
    "})"
   ]
  },
  {
   "cell_type": "code",
   "execution_count": null,
   "id": "e0b1d0a7",
   "metadata": {},
   "outputs": [],
   "source": [
    "# aggregate headlines per (ticker, trading day)\n",
    "headline_agg = news_with_price.groupby(['ticker', 'date'])['headline'] \\\n",
    "    .apply(lambda x: \" \".join(x.dropna())).reset_index()\n",
    "\n",
    "# merge aggregated headlines back with prices_1day\n",
    "merged_1day = pd.merge(\n",
    "    prices_1day,\n",
    "    headline_agg,\n",
    "    on=['ticker', 'date'],\n",
    "    how='left'\n",
    ").rename(columns={'headline': 'headlines_prev_day'})\n",
    "\n",
    "# add target column: UP or DOWN\n",
    "# get previous day close for each ticker\n",
    "merged_1day = merged_1day.sort_values(['ticker', 'date'])\n",
    "merged_1day['prev_close'] = merged_1day.groupby('ticker')['close'].shift(1)\n",
    "\n",
    "# create target column\n",
    "merged_1day['target'] = np.where(\n",
    "    merged_1day['close'] > merged_1day['prev_close'],\n",
    "    'UP', 'DOWN'\n",
    ")\n",
    "\n",
    "# reorder columns for clarity\n",
    "merged_1day = merged_1day[['ticker', 'date', 'prev_trading_date', 'prev_close', 'headlines_prev_day', 'close', 'target']]\n",
    "\n",
    "# drop rows without headlines\n",
    "merged_1day = merged_1day[\n",
    "    merged_1day['headlines_prev_day'].fillna('').str.strip() != ''\n",
    "]\n",
    "\n",
    "# reset index\n",
    "merged_1day.reset_index(drop=True, inplace=True)"
   ]
  },
  {
   "cell_type": "code",
   "execution_count": null,
   "id": "2a405458",
   "metadata": {},
   "outputs": [],
   "source": [
    "# clean and lemmatize headlines\n",
    "merged_1day['headlines_prev_day_clean'] = merged_1day['headlines_prev_day'].apply(clean)\n",
    "\n",
    "merged_1day.head()"
   ]
  },
  {
   "cell_type": "code",
   "execution_count": null,
   "id": "3ea345d9",
   "metadata": {},
   "outputs": [],
   "source": [
    "# vectorize cleaned 1 day headlines\n",
    "print(\"Vectorizing text...\")\n",
    "tfidf = TfidfVectorizer(max_features=5000) \n",
    "X_text_1d = tfidf.fit_transform(merged_1day['headlines_prev_day_clean'])"
   ]
  },
  {
   "cell_type": "code",
   "execution_count": null,
   "id": "f01a3be5",
   "metadata": {},
   "outputs": [],
   "source": [
    "# train randomforest classifier and measure train time\n",
    "start = time.time()\n",
    "\n",
    "X_1d = X_text_1d\n",
    "y_1d = merged_1day['target']\n",
    "\n",
    "# Save original indices\n",
    "original_indices_1d = merged_1day.index\n",
    "\n",
    "X_train, X_test, y_train, y_test, train_idx, test_idx = train_test_split(\n",
    "    X_1d, y_1d, original_indices_1d, test_size=0.2, random_state=42)\n",
    "\n",
    "print(\"Training model...\")\n",
    "clf_1d = RandomForestClassifier(n_estimators=500, random_state=42)\n",
    "clf_1d.fit(X_train, y_train)\n",
    "\n",
    "train_time = time.time() - start\n",
    "print('Time required to train model (sec): {:.1f}'.format(train_time))"
   ]
  },
  {
   "cell_type": "code",
   "execution_count": null,
   "id": "ef51499a",
   "metadata": {},
   "outputs": [],
   "source": [
    "y_pred = clf_1d.predict(X_test)\n",
    "\n",
    "# confusion matrix\n",
    "print(\"\\nConfusion Matrix:\")\n",
    "cm = confusion_matrix(y_test, y_pred)\n",
    "labels = sorted(y.unique())\n",
    "cm_df = pd.DataFrame(cm, index=labels, columns=labels)\n",
    "print(cm_df)\n",
    "\n",
    "# classification report\n",
    "print(\"\\nClassification Report:\")\n",
    "print(classification_report(y_test, y_pred))"
   ]
  },
  {
   "cell_type": "code",
   "execution_count": null,
   "id": "12862cb2",
   "metadata": {},
   "outputs": [],
   "source": [
    "# get predicted probabilities of going 'UP'\n",
    "y_proba = clf_1d.predict_proba(X_test)\n",
    "proba_up = y_proba[:, 1]\n",
    "\n",
    "# create dataframe to assess top predictions\n",
    "results = pd.DataFrame({\n",
    "    'ticker': merged_1day.loc[test_idx, 'ticker'].values,\n",
    "    'prob_up': proba_up,\n",
    "    'true_label': y_test,\n",
    "    'headline': merged_1day.loc[test_idx, 'headlines_prev_day_clean'].values\n",
    "})\n",
    "\n",
    "# find top 20 most confident predictions for 'UP'\n",
    "top_20_up = results.sort_values('prob_up', ascending=False).head(20)\n",
    "print(top_20_up[['ticker', 'true_label', 'prob_up', 'headline']])"
   ]
  },
  {
   "cell_type": "code",
   "execution_count": null,
   "id": "7af51a9d",
   "metadata": {},
   "outputs": [],
   "source": [
    "# Find top 10 likeliest stocks to go up on a given day\n",
    "\n",
    "# Step 1: set target day\n",
    "target_day = pd.to_datetime(\"2016-09-06\")\n",
    "target_day_data = merged_1day[merged_1day['date'] == target_day]\n",
    "\n",
    "# Step 2: Get the subset of test data from merged that matches this latest date\n",
    "# Filter merged rows that are both in the test set and match the latest date\n",
    "target_day_test_mask = target_day_data.index.isin(test_idx)\n",
    "target_day_test = target_day_data[target_day_test_mask]\n",
    "\n",
    "# Step 4: Get predictions for those test rows\n",
    "X_target = tfidf.transform(target_day_test['headlines_prev_day'])\n",
    "pred_probs = clf_1d.predict_proba(X_target)  # Assuming binary classification with 'DOWN' and 'UP'\n",
    "up_probs = pred_probs[:, list(clf_1d.classes_).index('UP')]  # Probabilities of going UP\n",
    "\n",
    "# Step 5: Add predictions back to the test DataFrame\n",
    "target_day_test = target_day_test.copy()\n",
    "target_day_test['prob_up'] = up_probs\n",
    "\n",
    "# Step 6: Sort by probability of going up and select top 10\n",
    "top_10 = target_day_test.sort_values('prob_up', ascending=False).head(10)\n",
    "\n",
    "# Display the top 10 likeliest stocks to go up on that trading day\n",
    "print(top_10[['ticker', 'date', 'prob_up']])"
   ]
  },
  {
   "cell_type": "code",
   "execution_count": null,
   "id": "8fcd749e",
   "metadata": {},
   "outputs": [],
   "source": [
    "# assess predictive performance\n",
    "\n",
    "# Make a copy of the top_10 predictions\n",
    "top_10_eval = top_10.copy()\n",
    "\n",
    "# Calculate absolute price change\n",
    "top_10_eval['abs_price_change'] = (top_10_eval['close'] - top_10_eval['prev_close'])\n",
    "\n",
    "# Calculate percentage change\n",
    "top_10_eval['pct_price_change'] = ((top_10_eval['close'] - top_10_eval['prev_close']) / top_10_eval['prev_close']) * 100\n",
    "\n",
    "# Display relevant columns\n",
    "print(top_10_eval[['ticker', 'date', 'prev_close', 'close', 'abs_price_change', 'pct_price_change', 'prob_up']])"
   ]
  }
 ],
 "metadata": {
  "kernelspec": {
   "display_name": "Python 3 (ipykernel)",
   "language": "python",
   "name": "python3"
  },
  "language_info": {
   "codemirror_mode": {
    "name": "ipython",
    "version": 3
   },
   "file_extension": ".py",
   "mimetype": "text/x-python",
   "name": "python",
   "nbconvert_exporter": "python",
   "pygments_lexer": "ipython3",
   "version": "3.11.8"
  }
 },
 "nbformat": 4,
 "nbformat_minor": 5
}
